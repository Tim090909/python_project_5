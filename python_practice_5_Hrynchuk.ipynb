{
  "nbformat": 4,
  "nbformat_minor": 0,
  "metadata": {
    "colab": {
      "provenance": []
    },
    "kernelspec": {
      "name": "python3",
      "display_name": "Python 3"
    },
    "language_info": {
      "name": "python"
    }
  },
  "cells": [
    {
      "cell_type": "markdown",
      "source": [
        "# I. OOP"
      ],
      "metadata": {
        "id": "5qV_sehzFCTp"
      }
    },
    {
      "cell_type": "markdown",
      "source": [
        "1. (6б). Створіть клас Animal, додайте три атрибути, один з яких має значення за замовчуванням та два методи на свій розсуд."
      ],
      "metadata": {
        "id": "tx_U_hOALyfg"
      }
    },
    {
      "cell_type": "code",
      "source": [
        "class Animal():\n",
        "  def __init__(self, name, sound, kind='Mammal'):\n",
        "    self.name = name\n",
        "    self.kind = kind\n",
        "    self.sound = sound\n",
        "\n",
        "  def animal_kind(self):\n",
        "    return f\"{self.name} is {self.kind}\"\n",
        "\n",
        "  def animal_sound(self):\n",
        "    return f\"{self.name} says {self.sound}\""
      ],
      "metadata": {
        "id": "-Vf895KaL88N"
      },
      "execution_count": 1,
      "outputs": []
    },
    {
      "cell_type": "markdown",
      "source": [
        "2. (2б). Створіть два обʼєкти цього класу, де один з обʼєктів створюється із дефолтним значенням атрибуту. На одному обʼєкті отримайте значення його атрибуту, а на іншому викличте один з його методів."
      ],
      "metadata": {
        "id": "X_UlOMB0L93w"
      }
    },
    {
      "cell_type": "code",
      "source": [
        "cat = Animal(name=\"Cat\", sound=\"Meow\")\n",
        "parrot = Animal(name=\"Parrot\", sound=\"Hello\", kind=\"Bird\")\n",
        "\n",
        "print(\"Cat is \" + cat.kind)\n",
        "print(parrot.animal_sound())"
      ],
      "metadata": {
        "id": "7gBu0ESOMCpG",
        "colab": {
          "base_uri": "https://localhost:8080/"
        },
        "outputId": "3775cda9-222b-4514-c3ea-d0f51e8eab65"
      },
      "execution_count": 2,
      "outputs": [
        {
          "output_type": "stream",
          "name": "stdout",
          "text": [
            "Cat is Mammal\n",
            "Parrot says Hello\n"
          ]
        }
      ]
    },
    {
      "cell_type": "markdown",
      "source": [
        "3. (5б). Створіть клас, де атрибути мають різні рівні доступу. Спробуйте отримати їхні значення та опишіть результати."
      ],
      "metadata": {
        "id": "HoqSCZt1MHn5"
      }
    },
    {
      "cell_type": "code",
      "source": [
        "class Animal():\n",
        "  def __init__(self, name, sound, kind='Mammal'):\n",
        "    self._name = name\n",
        "    self.__kind = kind\n",
        "    self.sound = sound\n",
        "\n",
        "parrot = Animal(name=\"Parrot\", sound=\"Hello\", kind=\"Bird\")\n",
        "print(parrot.sound)\n",
        "print(parrot._name)\n",
        "print(parrot._Animal__kind)"
      ],
      "metadata": {
        "id": "r9b3vJxBMSPV",
        "colab": {
          "base_uri": "https://localhost:8080/"
        },
        "outputId": "7c5c2d20-9962-46ac-95e0-70a3c6a8697c"
      },
      "execution_count": 7,
      "outputs": [
        {
          "output_type": "stream",
          "name": "stdout",
          "text": [
            "Hello\n",
            "Parrot\n",
            "Bird\n"
          ]
        }
      ]
    },
    {
      "cell_type": "markdown",
      "source": [
        "4. (7б). Як ви розумієте термін self? Для чого використовується метод __init __?"
      ],
      "metadata": {
        "id": "5op2m2vgMSkZ"
      }
    },
    {
      "cell_type": "markdown",
      "source": [
        "Self це безпосередньо об'єкт класу для якого ми викликаємо певну функцію класу.\n",
        "__init__ використовується для задання об'єкту класу і виконується одразу при виклиці класу"
      ],
      "metadata": {
        "id": "DyiPqNRvMasx"
      }
    },
    {
      "cell_type": "markdown",
      "source": [
        "5. (9б). Створіть клас Фігура без атрибутів, з методом get_area для отримання площі фігури, що повертає 0 та __add __, який приймає self та other в якості аргументів, а повертає суму площин фігур self та other."
      ],
      "metadata": {
        "id": "-6X8EGfjMd2y"
      }
    },
    {
      "cell_type": "code",
      "source": [
        "class Figure():\n",
        "  def get_area():\n",
        "    return 0\n",
        "\n",
        "  def __add__(self, other):\n",
        "    return self.get_area() + other.get_area()"
      ],
      "metadata": {
        "id": "4rvO_wYUMaEr"
      },
      "execution_count": null,
      "outputs": []
    },
    {
      "cell_type": "markdown",
      "source": [
        "6. (11б). Створіть 2 дочірніх класи від Фігури: Трикутник та Коло, які мають атрибути, необхідні для розрахунку площин. Визначте метод get_area в кожному з них так, щоби вони розраховували площу в залежності від формули для кожного типу фігури. Створіть обʼєкт класу Трикутник та обʼєкт класу Коло. Виконайте операцію суми за допомогою оператора + між ними."
      ],
      "metadata": {
        "id": "SFcKnnv5Mo_z"
      }
    },
    {
      "cell_type": "code",
      "source": [
        "class Figure():\n",
        "  def get_area():\n",
        "    return 0\n",
        "\n",
        "class Triangle(Figure):\n",
        "  def __init__(self, base, height):\n",
        "    self.base = base\n",
        "    self.height = height\n",
        "\n",
        "  def get_area(self):\n",
        "    return 0.5 * self.base * self.height\n",
        "\n",
        "class Circle(Figure):\n",
        "  def __init__(self, radius):\n",
        "    self. radius =  radius\n",
        "\n",
        "  def get_area(self):\n",
        "    return 3.14 * self.radius ** 2\n",
        "\n",
        "circle = Circle(5)\n",
        "triangle = Triangle(20, 10)\n",
        "print(circle.get_area() + triangle.get_area())"
      ],
      "metadata": {
        "id": "H3GVNr69Muf3",
        "colab": {
          "base_uri": "https://localhost:8080/"
        },
        "outputId": "493631a9-bb02-4733-e073-6d3d84faf1c5"
      },
      "execution_count": 5,
      "outputs": [
        {
          "output_type": "stream",
          "name": "stdout",
          "text": [
            "178.5\n"
          ]
        }
      ]
    },
    {
      "cell_type": "markdown",
      "source": [
        "7. Продемонструйте різницю між isinstance та issubclass."
      ],
      "metadata": {
        "id": "EXRmWaX9rExR"
      }
    },
    {
      "cell_type": "code",
      "source": [
        "class Figure():\n",
        "  def get_area():\n",
        "    return 0\n",
        "\n",
        "class Circle(Figure):\n",
        "  def __init__(self, radius):\n",
        "    self. radius =  radius\n",
        "\n",
        "figure1 = Circle(5)\n",
        "print(isinstance(figure1, Circle))\n",
        "print(isinstance(figure1, Figure))\n",
        "\n",
        "print(issubclass(Circle, Figure))\n",
        "print(issubclass(Figure, Circle))"
      ],
      "metadata": {
        "id": "L_V1bBvDM0GN",
        "colab": {
          "base_uri": "https://localhost:8080/"
        },
        "outputId": "82ec4879-c8b9-432b-be4c-9588b920bbd6"
      },
      "execution_count": 28,
      "outputs": [
        {
          "output_type": "stream",
          "name": "stdout",
          "text": [
            "True\n",
            "True\n",
            "True\n",
            "False\n"
          ]
        }
      ]
    },
    {
      "cell_type": "markdown",
      "source": [
        "8. (13б). Створіть клас BankAccount з приватними атрибутами balance та account_number. Реалізуйте методи поповнення та зняття коштів, забезпечивши належну інкапсуляцію. Підказка: використовуйте декоратори property та setter."
      ],
      "metadata": {
        "id": "jjsaBZ-iM0Qq"
      }
    },
    {
      "cell_type": "code",
      "source": [
        "class BankAccount():\n",
        "  def __init__(self, balance = 0, account_number = None):\n",
        "    self.__balance = balance\n",
        "    self.__account_number = account_number\n",
        "\n",
        "  @property\n",
        "  def balance(self):\n",
        "    return self.__balance\n",
        "\n",
        "  @balance.setter\n",
        "  def balance(self, new_balance):\n",
        "    if new_balance < 0:\n",
        "      print(\"Error: Balance cannot be negative.\")\n",
        "    else:\n",
        "      self.__balance = new_balance\n",
        "      print(f\"Balance updated: {self.__balance}\")\n",
        "\n",
        "  def deposit(self, amount):\n",
        "    if amount > 0:\n",
        "      self.__balance += amount\n",
        "      print(f\"Deposited: {amount}\")\n",
        "      print(f\"New Balance: {self.__balance}\")\n",
        "    else:\n",
        "      print(\"Error: Deposit amount must be positive.\")\n",
        "\n",
        "  def withdraw(self, amount):\n",
        "    if amount > 0 and amount <= self.__balance:\n",
        "      self.__balance -= amount\n",
        "      print(f\"Withdrawn: {amount}\")\n",
        "      print(f\"New Balance: {self.__balance}\")\n",
        "    else:\n",
        "      print(\"Error: Invalid withdrawal amount.\")\n",
        "\n",
        "person1 = BankAccount(account_number=1)\n",
        "print(f\"Initial balance {person1.balance}\")\n",
        "\n",
        "person1.deposit(1000)\n",
        "person1.withdraw(1200)\n",
        "person1.withdraw(800)\n",
        "\n"
      ],
      "metadata": {
        "id": "xCvZ7lh8M7YA",
        "colab": {
          "base_uri": "https://localhost:8080/"
        },
        "outputId": "4a9d792d-523c-4c29-8ef2-1b5296d9515f"
      },
      "execution_count": 14,
      "outputs": [
        {
          "output_type": "stream",
          "name": "stdout",
          "text": [
            "Initial balance 0\n",
            "Deposited: 1000\n",
            "New Balance: 1000\n",
            "Error: Invalid withdrawal amount.\n",
            "Withdrawn: 800\n",
            "New Balance: 200\n"
          ]
        }
      ]
    },
    {
      "cell_type": "markdown",
      "source": [
        "9. (11б). Створіть клас Library, який містить список об'єктів типу Book. Реалізуйте методи для додавання книги, видалення книги та відображення списку книг."
      ],
      "metadata": {
        "id": "tIzL2SJTM8ft"
      }
    },
    {
      "cell_type": "code",
      "source": [
        "class Book():\n",
        "  def __init__(self, title, author, kind=None):\n",
        "    self.title = title\n",
        "    self.author = author\n",
        "    self.kind = kind\n",
        "\n",
        "class Library():\n",
        "  def __init__(self):\n",
        "    self.books=[]\n",
        "\n",
        "  def add_book(self, book):\n",
        "    self.books.append(book)\n",
        "    print(f\"Book {book.title} of type {book.kind} written by {book.author} added to library!\")\n",
        "\n",
        "  def remove_book(self, rem_book):\n",
        "    for book in self.books:\n",
        "      if book.title == rem_book.title and book.author == rem_book.author:\n",
        "        self.books.remove(book)\n",
        "        print(f\"Book {book.title} of type {book.kind} written by {book.author} removed from library!\")\n",
        "        return\n",
        "    print(f\"Book with title {rem_book.title} written by {rem_book.author} not found in the library.\")\n",
        "\n",
        "  def see_books(self):\n",
        "    if not self.books:\n",
        "      print(\"The library is empty. Add some books first!\")\n",
        "    else:\n",
        "      print(\"Books in the library:\")\n",
        "      for i, book in enumerate(self.books, start=1):\n",
        "          print(f\"{i}. '{book.title}' written by {book.author}\")\n",
        "\n",
        "book1 = Book(\"Math\", \"Pifagor\", \"Sience\")\n",
        "book2 = Book(\"Python\", \"Person\")\n",
        "book3 = Book(\"hello...\", \"Someone\", \"Something\")\n",
        "book4 = Book(\"hello...\", \"Someone\")\n",
        "\n",
        "my_library = Library()\n",
        "my_library.add_book(book1)\n",
        "my_library.add_book(book2)\n",
        "my_library.add_book(book3)\n",
        "print(\"=\" * 60)\n",
        "my_library.see_books()\n",
        "print(\"=\" * 60)\n",
        "my_library.remove_book(book4)\n",
        "print(\"=\" * 60)\n",
        "my_library.remove_book(book4)\n",
        "print(\"=\" * 60)\n",
        "my_library.see_books()"
      ],
      "metadata": {
        "id": "HWxfJKLtNAUZ",
        "colab": {
          "base_uri": "https://localhost:8080/"
        },
        "outputId": "3a585a80-888d-4aa6-8902-289af9e5d1a0"
      },
      "execution_count": 22,
      "outputs": [
        {
          "output_type": "stream",
          "name": "stdout",
          "text": [
            "Book Math of type Sience written by Pifagor added to library!\n",
            "Book Python of type None written by Person added to library!\n",
            "Book hello... of type Something written by Someone added to library!\n",
            "============================================================\n",
            "Books in the library:\n",
            "1. 'Math' written by Pifagor\n",
            "2. 'Python' written by Person\n",
            "3. 'hello...' written by Someone\n",
            "============================================================\n",
            "Book hello... of type Something written by Someone removed from library!\n",
            "============================================================\n",
            "Book with title hello... written by Someone not found in the library.\n",
            "============================================================\n",
            "Books in the library:\n",
            "1. 'Math' written by Pifagor\n",
            "2. 'Python' written by Person\n"
          ]
        }
      ]
    },
    {
      "cell_type": "markdown",
      "source": [
        "10. (13б). Створіть клас Person з атрибутами name та age. Створіть ще один клас Employee з такими атрибутами, як department та salary. Створіть клас Manager, який успадковує обидва класи Person та Employee. Продемонструйте використання множинної спадковості, створивши обʼєкт класу Manager та отримавши mro для цього класу."
      ],
      "metadata": {
        "id": "lmV8pAwwNIqu"
      }
    },
    {
      "cell_type": "code",
      "source": [
        "class Person():\n",
        "  def __init__(self, name, age):\n",
        "    self.name = name\n",
        "    self.age = age\n",
        "\n",
        "class Employee():\n",
        "  def __init__(self,  department,  salary):\n",
        "    self.department = department\n",
        "    self. salary =  salary\n",
        "\n",
        "class Manager(Person, Employee):\n",
        "  def __init__(self, name, age, department, salary):\n",
        "    Person.__init__(self, name, age)\n",
        "    Employee.__init__(self, department, salary)\n",
        "\n",
        "manager1 = Manager(name=\"Hello Hello\", age=24, department=\"Social\", salary=120000)\n",
        "print(f\"Manager {manager1.name} {manager1.age} years old, works in {manager1.department} department with a salary of {manager1.salary}\")\n",
        "print(f\"MRO for Manager class: {Manager.mro()}\")\n"
      ],
      "metadata": {
        "id": "R49grKlWNPeN",
        "colab": {
          "base_uri": "https://localhost:8080/"
        },
        "outputId": "90840542-2cb4-4b5d-be00-e14594292db1"
      },
      "execution_count": 23,
      "outputs": [
        {
          "output_type": "stream",
          "name": "stdout",
          "text": [
            "Manager Hello Hello 24 years old, works in Social department with a salary of 120000\n",
            "MRO for Manager class: [<class '__main__.Manager'>, <class '__main__.Person'>, <class '__main__.Employee'>, <class 'object'>]\n"
          ]
        }
      ]
    },
    {
      "cell_type": "markdown",
      "source": [
        "# II. Iterator"
      ],
      "metadata": {
        "id": "dIJyUiNBFG8G"
      }
    },
    {
      "cell_type": "markdown",
      "source": [
        "11. (4б). Визначте рядок(str) з 4ма різними за значенням символами. Створіть ітератор на основі цього рядка. Викличте 5 разів функцію next на ітераторі, 4ри перших з них огорніть у ф-цію print()."
      ],
      "metadata": {
        "id": "13vsm0NyKIzL"
      }
    },
    {
      "cell_type": "code",
      "source": [
        "my_str = \"abcd\"\n",
        "my_iterator = iter(my_str)\n",
        "\n",
        "for i in range(5):\n",
        "    result = next(my_iterator)\n",
        "    if i < 4:\n",
        "        print(result)\n"
      ],
      "metadata": {
        "id": "81ntabAkKuz-",
        "colab": {
          "base_uri": "https://localhost:8080/",
          "height": 280
        },
        "outputId": "58c8449b-1c18-4c42-9ea2-c06a406fc662"
      },
      "execution_count": 29,
      "outputs": [
        {
          "output_type": "stream",
          "name": "stdout",
          "text": [
            "a\n",
            "b\n",
            "c\n",
            "d\n"
          ]
        },
        {
          "output_type": "error",
          "ename": "StopIteration",
          "evalue": "",
          "traceback": [
            "\u001b[0;31m---------------------------------------------------------------------------\u001b[0m",
            "\u001b[0;31mStopIteration\u001b[0m                             Traceback (most recent call last)",
            "\u001b[0;32m<ipython-input-29-5b0b63fd35b6>\u001b[0m in \u001b[0;36m<cell line: 4>\u001b[0;34m()\u001b[0m\n\u001b[1;32m      3\u001b[0m \u001b[0;34m\u001b[0m\u001b[0m\n\u001b[1;32m      4\u001b[0m \u001b[0;32mfor\u001b[0m \u001b[0mi\u001b[0m \u001b[0;32min\u001b[0m \u001b[0mrange\u001b[0m\u001b[0;34m(\u001b[0m\u001b[0;36m5\u001b[0m\u001b[0;34m)\u001b[0m\u001b[0;34m:\u001b[0m\u001b[0;34m\u001b[0m\u001b[0;34m\u001b[0m\u001b[0m\n\u001b[0;32m----> 5\u001b[0;31m     \u001b[0mresult\u001b[0m \u001b[0;34m=\u001b[0m \u001b[0mnext\u001b[0m\u001b[0;34m(\u001b[0m\u001b[0mmy_iterator\u001b[0m\u001b[0;34m)\u001b[0m\u001b[0;34m\u001b[0m\u001b[0;34m\u001b[0m\u001b[0m\n\u001b[0m\u001b[1;32m      6\u001b[0m     \u001b[0;32mif\u001b[0m \u001b[0mi\u001b[0m \u001b[0;34m<\u001b[0m \u001b[0;36m4\u001b[0m\u001b[0;34m:\u001b[0m\u001b[0;34m\u001b[0m\u001b[0;34m\u001b[0m\u001b[0m\n\u001b[1;32m      7\u001b[0m         \u001b[0mprint\u001b[0m\u001b[0;34m(\u001b[0m\u001b[0mresult\u001b[0m\u001b[0;34m)\u001b[0m\u001b[0;34m\u001b[0m\u001b[0;34m\u001b[0m\u001b[0m\n",
            "\u001b[0;31mStopIteration\u001b[0m: "
          ]
        }
      ]
    },
    {
      "cell_type": "markdown",
      "source": [
        "А що якщо викликати цю ж функцію на рядку?"
      ],
      "metadata": {
        "id": "aekWHGXOLRsO"
      }
    },
    {
      "cell_type": "code",
      "source": [
        "print(next(my_str))"
      ],
      "metadata": {
        "id": "mxATGsErLV1i",
        "colab": {
          "base_uri": "https://localhost:8080/",
          "height": 141
        },
        "outputId": "4a537470-2509-43ae-b858-4b673d0f4abd"
      },
      "execution_count": 32,
      "outputs": [
        {
          "output_type": "error",
          "ename": "TypeError",
          "evalue": "'str' object is not an iterator",
          "traceback": [
            "\u001b[0;31m---------------------------------------------------------------------------\u001b[0m",
            "\u001b[0;31mTypeError\u001b[0m                                 Traceback (most recent call last)",
            "\u001b[0;32m<ipython-input-32-902bfc19cfc5>\u001b[0m in \u001b[0;36m<cell line: 1>\u001b[0;34m()\u001b[0m\n\u001b[0;32m----> 1\u001b[0;31m \u001b[0mprint\u001b[0m\u001b[0;34m(\u001b[0m\u001b[0mnext\u001b[0m\u001b[0;34m(\u001b[0m\u001b[0mmy_str\u001b[0m\u001b[0;34m)\u001b[0m\u001b[0;34m)\u001b[0m\u001b[0;34m\u001b[0m\u001b[0;34m\u001b[0m\u001b[0m\n\u001b[0m",
            "\u001b[0;31mTypeError\u001b[0m: 'str' object is not an iterator"
          ]
        }
      ]
    },
    {
      "cell_type": "markdown",
      "source": [
        " 12. (5б). Опишіть своїми словами в одному реченні, як ви розумієте різницю між ітерабельними обʼєктами та ітераторами (можна на прикладі)."
      ],
      "metadata": {
        "id": "XwtMEopwJ4pH"
      }
    },
    {
      "cell_type": "markdown",
      "source": [
        "Ітерабельні об'єкти це об'єкти які можна передирати(наприклад рядки чи списки), а ітератори це об'єкти що ітерують(викликають функцію ітерування тощо)"
      ],
      "metadata": {
        "id": "-sHrODc3KFn8"
      }
    },
    {
      "cell_type": "markdown",
      "source": [
        "13. (11б). Створіть клас, що має визначений Iterator Protocol та при кожному виклику next повертає літери англійської абетки, поки вони не вичерпаються."
      ],
      "metadata": {
        "id": "E9qJWmNbK8Gl"
      }
    },
    {
      "cell_type": "code",
      "source": [
        "class AlphabetIterator():\n",
        "  def __init__(self):\n",
        "    self.current_letter = ord('a')\n",
        "\n",
        "  def __iter__(self):\n",
        "    return self\n",
        "\n",
        "  def __next__(self):\n",
        "    if self.current_letter > ord('z'):\n",
        "      raise StopIteration\n",
        "    else:\n",
        "      letter = chr(self.current_letter)\n",
        "      self.current_letter += 1\n",
        "      return letter\n",
        "\n",
        "alphabet_iterator = AlphabetIterator()\n",
        "for letter in alphabet_iterator:\n",
        "    print(letter)"
      ],
      "metadata": {
        "id": "cqx-g_RsLo6I",
        "colab": {
          "base_uri": "https://localhost:8080/"
        },
        "outputId": "c6e1e86b-340a-4277-af88-b38535150492"
      },
      "execution_count": 33,
      "outputs": [
        {
          "output_type": "stream",
          "name": "stdout",
          "text": [
            "a\n",
            "b\n",
            "c\n",
            "d\n",
            "e\n",
            "f\n",
            "g\n",
            "h\n",
            "i\n",
            "j\n",
            "k\n",
            "l\n",
            "m\n",
            "n\n",
            "o\n",
            "p\n",
            "q\n",
            "r\n",
            "s\n",
            "t\n",
            "u\n",
            "v\n",
            "w\n",
            "x\n",
            "y\n",
            "z\n"
          ]
        }
      ]
    },
    {
      "cell_type": "markdown",
      "source": [
        "# Вітаю! Ви велика(ий) молодець, що впоралась(вся). Похваліть себе та побалуйте чимось приємним. Я Вами пишаюся."
      ],
      "metadata": {
        "id": "Z3E3S_s1Fv7-"
      }
    }
  ]
}